{
 "cells": [
  {
   "cell_type": "code",
   "execution_count": 1,
   "id": "69111f80",
   "metadata": {},
   "outputs": [],
   "source": [
    "import numpy as np\n",
    "import pandas as pd\n",
    "import matplotlib.pyplot as plt"
   ]
  },
  {
   "cell_type": "code",
   "execution_count": 2,
   "id": "8c74d411",
   "metadata": {},
   "outputs": [
    {
     "data": {
      "text/html": [
       "<div>\n",
       "<style scoped>\n",
       "    .dataframe tbody tr th:only-of-type {\n",
       "        vertical-align: middle;\n",
       "    }\n",
       "\n",
       "    .dataframe tbody tr th {\n",
       "        vertical-align: top;\n",
       "    }\n",
       "\n",
       "    .dataframe thead th {\n",
       "        text-align: right;\n",
       "    }\n",
       "</style>\n",
       "<table border=\"1\" class=\"dataframe\">\n",
       "  <thead>\n",
       "    <tr style=\"text-align: right;\">\n",
       "      <th></th>\n",
       "      <th>Validity To</th>\n",
       "      <th>Container Type</th>\n",
       "      <th>Currency All-in Rate</th>\n",
       "      <th>All-in Rate</th>\n",
       "      <th>Currency Ocean Freight</th>\n",
       "      <th>Ocean Freight Rate</th>\n",
       "    </tr>\n",
       "    <tr>\n",
       "      <th>Validity From</th>\n",
       "      <th></th>\n",
       "      <th></th>\n",
       "      <th></th>\n",
       "      <th></th>\n",
       "      <th></th>\n",
       "      <th></th>\n",
       "    </tr>\n",
       "  </thead>\n",
       "  <tbody>\n",
       "    <tr>\n",
       "      <th>2021-12-01</th>\n",
       "      <td>2021-12-31</td>\n",
       "      <td>20GP</td>\n",
       "      <td>USD</td>\n",
       "      <td>7696</td>\n",
       "      <td>USD</td>\n",
       "      <td>7696</td>\n",
       "    </tr>\n",
       "    <tr>\n",
       "      <th>2022-01-01</th>\n",
       "      <td>2022-01-20</td>\n",
       "      <td>20GP</td>\n",
       "      <td>USD</td>\n",
       "      <td>7448</td>\n",
       "      <td>USD</td>\n",
       "      <td>7448</td>\n",
       "    </tr>\n",
       "    <tr>\n",
       "      <th>2022-01-21</th>\n",
       "      <td>2022-02-14</td>\n",
       "      <td>20GP</td>\n",
       "      <td>USD</td>\n",
       "      <td>6448</td>\n",
       "      <td>USD</td>\n",
       "      <td>6448</td>\n",
       "    </tr>\n",
       "    <tr>\n",
       "      <th>2022-02-15</th>\n",
       "      <td>2022-02-20</td>\n",
       "      <td>20GP</td>\n",
       "      <td>USD</td>\n",
       "      <td>6448</td>\n",
       "      <td>USD</td>\n",
       "      <td>6448</td>\n",
       "    </tr>\n",
       "    <tr>\n",
       "      <th>2022-02-21</th>\n",
       "      <td>2022-02-28</td>\n",
       "      <td>20GP</td>\n",
       "      <td>USD</td>\n",
       "      <td>6448</td>\n",
       "      <td>USD</td>\n",
       "      <td>6448</td>\n",
       "    </tr>\n",
       "  </tbody>\n",
       "</table>\n",
       "</div>"
      ],
      "text/plain": [
       "              Validity To Container Type Currency All-in Rate  All-in Rate   \\\n",
       "Validity From                                                                 \n",
       "2021-12-01     2021-12-31           20GP                  USD          7696   \n",
       "2022-01-01     2022-01-20           20GP                  USD          7448   \n",
       "2022-01-21     2022-02-14           20GP                  USD          6448   \n",
       "2022-02-15     2022-02-20           20GP                  USD          6448   \n",
       "2022-02-21     2022-02-28           20GP                  USD          6448   \n",
       "\n",
       "              Currency Ocean Freight  Ocean Freight Rate  \n",
       "Validity From                                             \n",
       "2021-12-01                       USD                7696  \n",
       "2022-01-01                       USD                7448  \n",
       "2022-01-21                       USD                6448  \n",
       "2022-02-15                       USD                6448  \n",
       "2022-02-21                       USD                6448  "
      ]
     },
     "execution_count": 2,
     "metadata": {},
     "output_type": "execute_result"
    }
   ],
   "source": [
    "hapag=pd.read_excel(\"BASE DE DATOS.xlsx\",sheet_name=\"Hapag\",index_col=0)\n",
    "hapag.head()"
   ]
  },
  {
   "cell_type": "code",
   "execution_count": 3,
   "id": "87e85d03",
   "metadata": {},
   "outputs": [
    {
     "data": {
      "text/html": [
       "<div>\n",
       "<style scoped>\n",
       "    .dataframe tbody tr th:only-of-type {\n",
       "        vertical-align: middle;\n",
       "    }\n",
       "\n",
       "    .dataframe tbody tr th {\n",
       "        vertical-align: top;\n",
       "    }\n",
       "\n",
       "    .dataframe thead th {\n",
       "        text-align: right;\n",
       "    }\n",
       "</style>\n",
       "<table border=\"1\" class=\"dataframe\">\n",
       "  <thead>\n",
       "    <tr style=\"text-align: right;\">\n",
       "      <th></th>\n",
       "      <th>Ocean Freight rate</th>\n",
       "      <th>Seconds</th>\n",
       "    </tr>\n",
       "    <tr>\n",
       "      <th>Validity From</th>\n",
       "      <th></th>\n",
       "      <th></th>\n",
       "    </tr>\n",
       "  </thead>\n",
       "  <tbody>\n",
       "    <tr>\n",
       "      <th>2021-12-01</th>\n",
       "      <td>7696</td>\n",
       "      <td>1.638317e+09</td>\n",
       "    </tr>\n",
       "    <tr>\n",
       "      <th>2022-01-01</th>\n",
       "      <td>7448</td>\n",
       "      <td>1.640995e+09</td>\n",
       "    </tr>\n",
       "    <tr>\n",
       "      <th>2022-01-21</th>\n",
       "      <td>6448</td>\n",
       "      <td>1.642723e+09</td>\n",
       "    </tr>\n",
       "    <tr>\n",
       "      <th>2022-02-15</th>\n",
       "      <td>6448</td>\n",
       "      <td>1.644883e+09</td>\n",
       "    </tr>\n",
       "    <tr>\n",
       "      <th>2022-02-21</th>\n",
       "      <td>6448</td>\n",
       "      <td>1.645402e+09</td>\n",
       "    </tr>\n",
       "    <tr>\n",
       "      <th>...</th>\n",
       "      <td>...</td>\n",
       "      <td>...</td>\n",
       "    </tr>\n",
       "    <tr>\n",
       "      <th>2023-01-13</th>\n",
       "      <td>52</td>\n",
       "      <td>1.673568e+09</td>\n",
       "    </tr>\n",
       "    <tr>\n",
       "      <th>2023-02-01</th>\n",
       "      <td>302</td>\n",
       "      <td>1.675210e+09</td>\n",
       "    </tr>\n",
       "    <tr>\n",
       "      <th>2023-02-07</th>\n",
       "      <td>302</td>\n",
       "      <td>1.675728e+09</td>\n",
       "    </tr>\n",
       "    <tr>\n",
       "      <th>2023-02-15</th>\n",
       "      <td>502</td>\n",
       "      <td>1.676419e+09</td>\n",
       "    </tr>\n",
       "    <tr>\n",
       "      <th>2023-02-17</th>\n",
       "      <td>502</td>\n",
       "      <td>1.676592e+09</td>\n",
       "    </tr>\n",
       "  </tbody>\n",
       "</table>\n",
       "<p>68 rows × 2 columns</p>\n",
       "</div>"
      ],
      "text/plain": [
       "               Ocean Freight rate       Seconds\n",
       "Validity From                                  \n",
       "2021-12-01                   7696  1.638317e+09\n",
       "2022-01-01                   7448  1.640995e+09\n",
       "2022-01-21                   6448  1.642723e+09\n",
       "2022-02-15                   6448  1.644883e+09\n",
       "2022-02-21                   6448  1.645402e+09\n",
       "...                           ...           ...\n",
       "2023-01-13                     52  1.673568e+09\n",
       "2023-02-01                    302  1.675210e+09\n",
       "2023-02-07                    302  1.675728e+09\n",
       "2023-02-15                    502  1.676419e+09\n",
       "2023-02-17                    502  1.676592e+09\n",
       "\n",
       "[68 rows x 2 columns]"
      ]
     },
     "execution_count": 3,
     "metadata": {},
     "output_type": "execute_result"
    }
   ],
   "source": [
    "freight_df = pd.DataFrame({'Ocean Freight rate':hapag[\"Ocean Freight Rate\"]})\n",
    "freight_df['Seconds'] = freight_df.index.map(pd.Timestamp.timestamp)\n",
    "freight_df"
   ]
  },
  {
   "cell_type": "code",
   "execution_count": 4,
   "id": "ad285cb9",
   "metadata": {},
   "outputs": [
    {
     "data": {
      "text/html": [
       "<div>\n",
       "<style scoped>\n",
       "    .dataframe tbody tr th:only-of-type {\n",
       "        vertical-align: middle;\n",
       "    }\n",
       "\n",
       "    .dataframe tbody tr th {\n",
       "        vertical-align: top;\n",
       "    }\n",
       "\n",
       "    .dataframe thead th {\n",
       "        text-align: right;\n",
       "    }\n",
       "</style>\n",
       "<table border=\"1\" class=\"dataframe\">\n",
       "  <thead>\n",
       "    <tr style=\"text-align: right;\">\n",
       "      <th></th>\n",
       "      <th>Ocean Freight rate</th>\n",
       "      <th>Seconds</th>\n",
       "      <th>Day sin</th>\n",
       "      <th>Day cos</th>\n",
       "      <th>Year sin</th>\n",
       "      <th>Year cos</th>\n",
       "    </tr>\n",
       "    <tr>\n",
       "      <th>Validity From</th>\n",
       "      <th></th>\n",
       "      <th></th>\n",
       "      <th></th>\n",
       "      <th></th>\n",
       "      <th></th>\n",
       "      <th></th>\n",
       "    </tr>\n",
       "  </thead>\n",
       "  <tbody>\n",
       "    <tr>\n",
       "      <th>2021-12-01</th>\n",
       "      <td>7696</td>\n",
       "      <td>1.638317e+09</td>\n",
       "      <td>-1.093976e-11</td>\n",
       "      <td>1.0</td>\n",
       "      <td>-0.502577</td>\n",
       "      <td>0.864532</td>\n",
       "    </tr>\n",
       "    <tr>\n",
       "      <th>2022-01-01</th>\n",
       "      <td>7448</td>\n",
       "      <td>1.640995e+09</td>\n",
       "      <td>-8.652299e-12</td>\n",
       "      <td>1.0</td>\n",
       "      <td>0.006709</td>\n",
       "      <td>0.999977</td>\n",
       "    </tr>\n",
       "    <tr>\n",
       "      <th>2022-01-21</th>\n",
       "      <td>6448</td>\n",
       "      <td>1.642723e+09</td>\n",
       "      <td>-9.993018e-12</td>\n",
       "      <td>1.0</td>\n",
       "      <td>0.343616</td>\n",
       "      <td>0.939110</td>\n",
       "    </tr>\n",
       "    <tr>\n",
       "      <th>2022-02-15</th>\n",
       "      <td>6448</td>\n",
       "      <td>1.644883e+09</td>\n",
       "      <td>-4.392959e-12</td>\n",
       "      <td>1.0</td>\n",
       "      <td>0.703872</td>\n",
       "      <td>0.710327</td>\n",
       "    </tr>\n",
       "    <tr>\n",
       "      <th>2022-02-21</th>\n",
       "      <td>6448</td>\n",
       "      <td>1.645402e+09</td>\n",
       "      <td>-7.705558e-12</td>\n",
       "      <td>1.0</td>\n",
       "      <td>0.773313</td>\n",
       "      <td>0.634024</td>\n",
       "    </tr>\n",
       "  </tbody>\n",
       "</table>\n",
       "</div>"
      ],
      "text/plain": [
       "               Ocean Freight rate       Seconds       Day sin  Day cos  \\\n",
       "Validity From                                                            \n",
       "2021-12-01                   7696  1.638317e+09 -1.093976e-11      1.0   \n",
       "2022-01-01                   7448  1.640995e+09 -8.652299e-12      1.0   \n",
       "2022-01-21                   6448  1.642723e+09 -9.993018e-12      1.0   \n",
       "2022-02-15                   6448  1.644883e+09 -4.392959e-12      1.0   \n",
       "2022-02-21                   6448  1.645402e+09 -7.705558e-12      1.0   \n",
       "\n",
       "               Year sin  Year cos  \n",
       "Validity From                      \n",
       "2021-12-01    -0.502577  0.864532  \n",
       "2022-01-01     0.006709  0.999977  \n",
       "2022-01-21     0.343616  0.939110  \n",
       "2022-02-15     0.703872  0.710327  \n",
       "2022-02-21     0.773313  0.634024  "
      ]
     },
     "execution_count": 4,
     "metadata": {},
     "output_type": "execute_result"
    }
   ],
   "source": [
    "day = 60*60*24 #segundos por día\n",
    "year = 365.2425*day #segundos por año\n",
    "\n",
    "freight_df['Day sin'] = np.sin(freight_df['Seconds'] * (2* np.pi / day))\n",
    "freight_df['Day cos'] = np.cos(freight_df['Seconds'] * (2 * np.pi / day))\n",
    "freight_df['Year sin'] = np.sin(freight_df['Seconds'] * (2 * np.pi / year))\n",
    "freight_df['Year cos'] = np.cos(freight_df['Seconds'] * (2 * np.pi / year))\n",
    "freight_df.head()"
   ]
  },
  {
   "cell_type": "code",
   "execution_count": 5,
   "id": "edbf7f99",
   "metadata": {},
   "outputs": [],
   "source": [
    "def df_to_X_y2(df, window_size):\n",
    "  df_as_np = df.to_numpy()\n",
    "  X = []\n",
    "  y = []\n",
    "  for i in range(len(df_as_np)-window_size):\n",
    "    row = [r for r in df_as_np[i:i+window_size]]\n",
    "    X.append(row)\n",
    "    label = df_as_np[i+window_size][0]\n",
    "    y.append(label)\n",
    "  return np.array(X), np.array(y)"
   ]
  },
  {
   "cell_type": "code",
   "execution_count": 7,
   "id": "6ddb7a8b",
   "metadata": {},
   "outputs": [
    {
     "data": {
      "text/html": [
       "<div>\n",
       "<style scoped>\n",
       "    .dataframe tbody tr th:only-of-type {\n",
       "        vertical-align: middle;\n",
       "    }\n",
       "\n",
       "    .dataframe tbody tr th {\n",
       "        vertical-align: top;\n",
       "    }\n",
       "\n",
       "    .dataframe thead th {\n",
       "        text-align: right;\n",
       "    }\n",
       "</style>\n",
       "<table border=\"1\" class=\"dataframe\">\n",
       "  <thead>\n",
       "    <tr style=\"text-align: right;\">\n",
       "      <th></th>\n",
       "      <th>Ocean Freight rate</th>\n",
       "      <th>Day sin</th>\n",
       "      <th>Day cos</th>\n",
       "      <th>Year sin</th>\n",
       "      <th>Year cos</th>\n",
       "    </tr>\n",
       "    <tr>\n",
       "      <th>Validity From</th>\n",
       "      <th></th>\n",
       "      <th></th>\n",
       "      <th></th>\n",
       "      <th></th>\n",
       "      <th></th>\n",
       "    </tr>\n",
       "  </thead>\n",
       "  <tbody>\n",
       "    <tr>\n",
       "      <th>2021-12-01</th>\n",
       "      <td>7696</td>\n",
       "      <td>-1.093976e-11</td>\n",
       "      <td>1.0</td>\n",
       "      <td>-0.502577</td>\n",
       "      <td>0.864532</td>\n",
       "    </tr>\n",
       "    <tr>\n",
       "      <th>2022-01-01</th>\n",
       "      <td>7448</td>\n",
       "      <td>-8.652299e-12</td>\n",
       "      <td>1.0</td>\n",
       "      <td>0.006709</td>\n",
       "      <td>0.999977</td>\n",
       "    </tr>\n",
       "    <tr>\n",
       "      <th>2022-01-21</th>\n",
       "      <td>6448</td>\n",
       "      <td>-9.993018e-12</td>\n",
       "      <td>1.0</td>\n",
       "      <td>0.343616</td>\n",
       "      <td>0.939110</td>\n",
       "    </tr>\n",
       "    <tr>\n",
       "      <th>2022-02-15</th>\n",
       "      <td>6448</td>\n",
       "      <td>-4.392959e-12</td>\n",
       "      <td>1.0</td>\n",
       "      <td>0.703872</td>\n",
       "      <td>0.710327</td>\n",
       "    </tr>\n",
       "    <tr>\n",
       "      <th>2022-02-21</th>\n",
       "      <td>6448</td>\n",
       "      <td>-7.705558e-12</td>\n",
       "      <td>1.0</td>\n",
       "      <td>0.773313</td>\n",
       "      <td>0.634024</td>\n",
       "    </tr>\n",
       "  </tbody>\n",
       "</table>\n",
       "</div>"
      ],
      "text/plain": [
       "               Ocean Freight rate       Day sin  Day cos  Year sin  Year cos\n",
       "Validity From                                                               \n",
       "2021-12-01                   7696 -1.093976e-11      1.0 -0.502577  0.864532\n",
       "2022-01-01                   7448 -8.652299e-12      1.0  0.006709  0.999977\n",
       "2022-01-21                   6448 -9.993018e-12      1.0  0.343616  0.939110\n",
       "2022-02-15                   6448 -4.392959e-12      1.0  0.703872  0.710327\n",
       "2022-02-21                   6448 -7.705558e-12      1.0  0.773313  0.634024"
      ]
     },
     "execution_count": 7,
     "metadata": {},
     "output_type": "execute_result"
    }
   ],
   "source": [
    "freight_df=freight_df.drop(\"Seconds\",axis=1)\n",
    "freight_df.head()"
   ]
  },
  {
   "cell_type": "code",
   "execution_count": 8,
   "id": "d137b170",
   "metadata": {},
   "outputs": [
    {
     "data": {
      "text/plain": [
       "Validity From\n",
       "2021-12-01    1.759329\n",
       "2022-01-01    1.660384\n",
       "2022-01-21    1.261411\n",
       "2022-02-15    1.261411\n",
       "2022-02-21    1.261411\n",
       "                ...   \n",
       "2023-01-13   -1.290419\n",
       "2023-02-01   -1.190676\n",
       "2023-02-07   -1.190676\n",
       "2023-02-15   -1.110881\n",
       "2023-02-17   -1.110881\n",
       "Name: Ocean Freight rate, Length: 68, dtype: float64"
      ]
     },
     "execution_count": 8,
     "metadata": {},
     "output_type": "execute_result"
    }
   ],
   "source": [
    "freight_sc=(freight_df[\"Ocean Freight rate\"]-np.mean(freight_df[\"Ocean Freight rate\"]))/np.std(freight_df[\"Ocean Freight rate\"])\n",
    "freight_sc"
   ]
  },
  {
   "cell_type": "code",
   "execution_count": 9,
   "id": "4cc428be",
   "metadata": {},
   "outputs": [
    {
     "data": {
      "text/html": [
       "<div>\n",
       "<style scoped>\n",
       "    .dataframe tbody tr th:only-of-type {\n",
       "        vertical-align: middle;\n",
       "    }\n",
       "\n",
       "    .dataframe tbody tr th {\n",
       "        vertical-align: top;\n",
       "    }\n",
       "\n",
       "    .dataframe thead th {\n",
       "        text-align: right;\n",
       "    }\n",
       "</style>\n",
       "<table border=\"1\" class=\"dataframe\">\n",
       "  <thead>\n",
       "    <tr style=\"text-align: right;\">\n",
       "      <th></th>\n",
       "      <th>Ocean Freight</th>\n",
       "      <th>Day sin</th>\n",
       "      <th>Day cos</th>\n",
       "      <th>Year sin</th>\n",
       "      <th>Year cos</th>\n",
       "    </tr>\n",
       "    <tr>\n",
       "      <th>Validity From</th>\n",
       "      <th></th>\n",
       "      <th></th>\n",
       "      <th></th>\n",
       "      <th></th>\n",
       "      <th></th>\n",
       "    </tr>\n",
       "  </thead>\n",
       "  <tbody>\n",
       "    <tr>\n",
       "      <th>2021-12-01</th>\n",
       "      <td>1.759329</td>\n",
       "      <td>-1.093976e-11</td>\n",
       "      <td>1.0</td>\n",
       "      <td>-0.502577</td>\n",
       "      <td>0.864532</td>\n",
       "    </tr>\n",
       "    <tr>\n",
       "      <th>2022-01-01</th>\n",
       "      <td>1.660384</td>\n",
       "      <td>-8.652299e-12</td>\n",
       "      <td>1.0</td>\n",
       "      <td>0.006709</td>\n",
       "      <td>0.999977</td>\n",
       "    </tr>\n",
       "    <tr>\n",
       "      <th>2022-01-21</th>\n",
       "      <td>1.261411</td>\n",
       "      <td>-9.993018e-12</td>\n",
       "      <td>1.0</td>\n",
       "      <td>0.343616</td>\n",
       "      <td>0.939110</td>\n",
       "    </tr>\n",
       "    <tr>\n",
       "      <th>2022-02-15</th>\n",
       "      <td>1.261411</td>\n",
       "      <td>-4.392959e-12</td>\n",
       "      <td>1.0</td>\n",
       "      <td>0.703872</td>\n",
       "      <td>0.710327</td>\n",
       "    </tr>\n",
       "    <tr>\n",
       "      <th>2022-02-21</th>\n",
       "      <td>1.261411</td>\n",
       "      <td>-7.705558e-12</td>\n",
       "      <td>1.0</td>\n",
       "      <td>0.773313</td>\n",
       "      <td>0.634024</td>\n",
       "    </tr>\n",
       "  </tbody>\n",
       "</table>\n",
       "</div>"
      ],
      "text/plain": [
       "               Ocean Freight       Day sin  Day cos  Year sin  Year cos\n",
       "Validity From                                                          \n",
       "2021-12-01          1.759329 -1.093976e-11      1.0 -0.502577  0.864532\n",
       "2022-01-01          1.660384 -8.652299e-12      1.0  0.006709  0.999977\n",
       "2022-01-21          1.261411 -9.993018e-12      1.0  0.343616  0.939110\n",
       "2022-02-15          1.261411 -4.392959e-12      1.0  0.703872  0.710327\n",
       "2022-02-21          1.261411 -7.705558e-12      1.0  0.773313  0.634024"
      ]
     },
     "execution_count": 9,
     "metadata": {},
     "output_type": "execute_result"
    }
   ],
   "source": [
    "standard_freight=pd.DataFrame({\"Ocean Freight\":freight_sc})\n",
    "new=freight_df.iloc[:,[1,2,3,4]]\n",
    "data_final=pd.concat([standard_freight,new],axis=1)\n",
    "data_final.head()"
   ]
  },
  {
   "cell_type": "code",
   "execution_count": 10,
   "id": "28b2d08b",
   "metadata": {},
   "outputs": [
    {
     "data": {
      "text/plain": [
       "((65, 3, 5), (65,))"
      ]
     },
     "execution_count": 10,
     "metadata": {},
     "output_type": "execute_result"
    }
   ],
   "source": [
    "xtrain,ytrain=df_to_X_y2(data_final,window_size=3)\n",
    "xtrain.shape,ytrain.shape"
   ]
  },
  {
   "cell_type": "code",
   "execution_count": 11,
   "id": "19c54bdd",
   "metadata": {},
   "outputs": [],
   "source": [
    "from tensorflow.keras.models import Sequential\n",
    "from tensorflow.keras.layers import *\n",
    "from tensorflow.keras.callbacks import ModelCheckpoint\n",
    "from tensorflow.keras.losses import MeanSquaredError\n",
    "from tensorflow.keras.metrics import RootMeanSquaredError\n",
    "from tensorflow.keras.optimizers import Adam"
   ]
  },
  {
   "cell_type": "code",
   "execution_count": 12,
   "id": "c717e373",
   "metadata": {},
   "outputs": [
    {
     "name": "stdout",
     "output_type": "stream",
     "text": [
      "Model: \"sequential\"\n",
      "_________________________________________________________________\n",
      " Layer (type)                Output Shape              Param #   \n",
      "=================================================================\n",
      " lstm (LSTM)                 (None, 40)                7360      \n",
      "                                                                 \n",
      " dense (Dense)               (None, 8)                 328       \n",
      "                                                                 \n",
      " dense_1 (Dense)             (None, 1)                 9         \n",
      "                                                                 \n",
      "=================================================================\n",
      "Total params: 7,697\n",
      "Trainable params: 7,697\n",
      "Non-trainable params: 0\n",
      "_________________________________________________________________\n"
     ]
    }
   ],
   "source": [
    "model=Sequential()\n",
    "model.add(InputLayer((3,5)))\n",
    "model.add(LSTM(40)) \n",
    "model.add(Dense(8,\"relu\")) \n",
    "model.add(Dense(1,\"linear\")) \n",
    "model.summary()"
   ]
  },
  {
   "cell_type": "code",
   "execution_count": 13,
   "id": "e3b3fb98",
   "metadata": {},
   "outputs": [],
   "source": [
    "cp1=ModelCheckpoint(\"model/\",save_best_only=True)\n",
    "model.compile(loss=MeanSquaredError(),optimizer=Adam(learning_rate=0.001),metrics=[RootMeanSquaredError()])"
   ]
  },
  {
   "cell_type": "code",
   "execution_count": 14,
   "id": "9bc24869",
   "metadata": {},
   "outputs": [
    {
     "name": "stdout",
     "output_type": "stream",
     "text": [
      "Epoch 1/20\n",
      "1/3 [=========>....................] - ETA: 7s - loss: 0.6384 - root_mean_squared_error: 0.7990WARNING:tensorflow:Can save best model only with val_loss available, skipping.\n",
      "3/3 [==============================] - 4s 16ms/step - loss: 0.7642 - root_mean_squared_error: 0.8742\n",
      "Epoch 2/20\n",
      "1/3 [=========>....................] - ETA: 0s - loss: 0.7373 - root_mean_squared_error: 0.8587WARNING:tensorflow:Can save best model only with val_loss available, skipping.\n",
      "3/3 [==============================] - 0s 6ms/step - loss: 0.6753 - root_mean_squared_error: 0.8217\n",
      "Epoch 3/20\n",
      "1/3 [=========>....................] - ETA: 0s - loss: 0.6412 - root_mean_squared_error: 0.8007WARNING:tensorflow:Can save best model only with val_loss available, skipping.\n",
      "3/3 [==============================] - 0s 7ms/step - loss: 0.6231 - root_mean_squared_error: 0.7894\n",
      "Epoch 4/20\n",
      "1/3 [=========>....................] - ETA: 0s - loss: 0.6442 - root_mean_squared_error: 0.8026WARNING:tensorflow:Can save best model only with val_loss available, skipping.\n",
      "3/3 [==============================] - 0s 7ms/step - loss: 0.5792 - root_mean_squared_error: 0.7611\n",
      "Epoch 5/20\n",
      "1/3 [=========>....................] - ETA: 0s - loss: 0.6293 - root_mean_squared_error: 0.7933WARNING:tensorflow:Can save best model only with val_loss available, skipping.\n",
      "3/3 [==============================] - 0s 6ms/step - loss: 0.5340 - root_mean_squared_error: 0.7307\n",
      "Epoch 6/20\n",
      "1/3 [=========>....................] - ETA: 0s - loss: 0.4515 - root_mean_squared_error: 0.6720WARNING:tensorflow:Can save best model only with val_loss available, skipping.\n",
      "3/3 [==============================] - 0s 7ms/step - loss: 0.4809 - root_mean_squared_error: 0.6934\n",
      "Epoch 7/20\n",
      "1/3 [=========>....................] - ETA: 0s - loss: 0.3547 - root_mean_squared_error: 0.5955WARNING:tensorflow:Can save best model only with val_loss available, skipping.\n",
      "3/3 [==============================] - 0s 9ms/step - loss: 0.4291 - root_mean_squared_error: 0.6551\n",
      "Epoch 8/20\n",
      "1/3 [=========>....................] - ETA: 0s - loss: 0.3979 - root_mean_squared_error: 0.6308WARNING:tensorflow:Can save best model only with val_loss available, skipping.\n",
      "3/3 [==============================] - 0s 6ms/step - loss: 0.3791 - root_mean_squared_error: 0.6157\n",
      "Epoch 9/20\n",
      "1/3 [=========>....................] - ETA: 0s - loss: 0.4364 - root_mean_squared_error: 0.6606WARNING:tensorflow:Can save best model only with val_loss available, skipping.\n",
      "3/3 [==============================] - 0s 7ms/step - loss: 0.3333 - root_mean_squared_error: 0.5773\n",
      "Epoch 10/20\n",
      "1/3 [=========>....................] - ETA: 0s - loss: 0.2313 - root_mean_squared_error: 0.4810WARNING:tensorflow:Can save best model only with val_loss available, skipping.\n",
      "3/3 [==============================] - 0s 6ms/step - loss: 0.2885 - root_mean_squared_error: 0.5371\n",
      "Epoch 11/20\n",
      "1/3 [=========>....................] - ETA: 0s - loss: 0.1716 - root_mean_squared_error: 0.4143WARNING:tensorflow:Can save best model only with val_loss available, skipping.\n",
      "3/3 [==============================] - 0s 7ms/step - loss: 0.2491 - root_mean_squared_error: 0.4991\n",
      "Epoch 12/20\n",
      "1/3 [=========>....................] - ETA: 0s - loss: 0.2051 - root_mean_squared_error: 0.4529WARNING:tensorflow:Can save best model only with val_loss available, skipping.\n",
      "3/3 [==============================] - 0s 9ms/step - loss: 0.2135 - root_mean_squared_error: 0.4620\n",
      "Epoch 13/20\n",
      "1/3 [=========>....................] - ETA: 0s - loss: 0.1325 - root_mean_squared_error: 0.3639WARNING:tensorflow:Can save best model only with val_loss available, skipping.\n",
      "3/3 [==============================] - 0s 8ms/step - loss: 0.1787 - root_mean_squared_error: 0.4227\n",
      "Epoch 14/20\n",
      "1/3 [=========>....................] - ETA: 0s - loss: 0.1504 - root_mean_squared_error: 0.3878WARNING:tensorflow:Can save best model only with val_loss available, skipping.\n",
      "3/3 [==============================] - 0s 6ms/step - loss: 0.1498 - root_mean_squared_error: 0.3870\n",
      "Epoch 15/20\n",
      "1/3 [=========>....................] - ETA: 0s - loss: 0.1320 - root_mean_squared_error: 0.3634WARNING:tensorflow:Can save best model only with val_loss available, skipping.\n",
      "3/3 [==============================] - 0s 10ms/step - loss: 0.1257 - root_mean_squared_error: 0.3546\n",
      "Epoch 16/20\n",
      "1/3 [=========>....................] - ETA: 0s - loss: 0.0896 - root_mean_squared_error: 0.2994WARNING:tensorflow:Can save best model only with val_loss available, skipping.\n",
      "3/3 [==============================] - 0s 7ms/step - loss: 0.1053 - root_mean_squared_error: 0.3244\n",
      "Epoch 17/20\n",
      "1/3 [=========>....................] - ETA: 0s - loss: 0.0727 - root_mean_squared_error: 0.2697WARNING:tensorflow:Can save best model only with val_loss available, skipping.\n",
      "3/3 [==============================] - 0s 7ms/step - loss: 0.0880 - root_mean_squared_error: 0.2966\n",
      "Epoch 18/20\n",
      "1/3 [=========>....................] - ETA: 0s - loss: 0.0745 - root_mean_squared_error: 0.2730WARNING:tensorflow:Can save best model only with val_loss available, skipping.\n",
      "3/3 [==============================] - 0s 6ms/step - loss: 0.0743 - root_mean_squared_error: 0.2726\n",
      "Epoch 19/20\n",
      "1/3 [=========>....................] - ETA: 0s - loss: 0.0547 - root_mean_squared_error: 0.2338WARNING:tensorflow:Can save best model only with val_loss available, skipping.\n",
      "3/3 [==============================] - 0s 2ms/step - loss: 0.0620 - root_mean_squared_error: 0.2491\n",
      "Epoch 20/20\n",
      "1/3 [=========>....................] - ETA: 0s - loss: 0.0453 - root_mean_squared_error: 0.2128WARNING:tensorflow:Can save best model only with val_loss available, skipping.\n",
      "3/3 [==============================] - 0s 6ms/step - loss: 0.0541 - root_mean_squared_error: 0.2325\n"
     ]
    },
    {
     "data": {
      "text/plain": [
       "<keras.callbacks.History at 0x1c94c19d070>"
      ]
     },
     "execution_count": 14,
     "metadata": {},
     "output_type": "execute_result"
    }
   ],
   "source": [
    "model.fit(xtrain,ytrain,epochs=20,callbacks=[cp1])"
   ]
  },
  {
   "cell_type": "code",
   "execution_count": 15,
   "id": "ffbe7ac9",
   "metadata": {},
   "outputs": [
    {
     "name": "stdout",
     "output_type": "stream",
     "text": [
      "3/3 [==============================] - 1s 3ms/step\n"
     ]
    },
    {
     "data": {
      "text/html": [
       "<div>\n",
       "<style scoped>\n",
       "    .dataframe tbody tr th:only-of-type {\n",
       "        vertical-align: middle;\n",
       "    }\n",
       "\n",
       "    .dataframe tbody tr th {\n",
       "        vertical-align: top;\n",
       "    }\n",
       "\n",
       "    .dataframe thead th {\n",
       "        text-align: right;\n",
       "    }\n",
       "</style>\n",
       "<table border=\"1\" class=\"dataframe\">\n",
       "  <thead>\n",
       "    <tr style=\"text-align: right;\">\n",
       "      <th></th>\n",
       "      <th>Train Predictions</th>\n",
       "      <th>Actuals freight pct change</th>\n",
       "    </tr>\n",
       "  </thead>\n",
       "  <tbody>\n",
       "    <tr>\n",
       "      <th>0</th>\n",
       "      <td>0.925942</td>\n",
       "      <td>1.261411</td>\n",
       "    </tr>\n",
       "    <tr>\n",
       "      <th>1</th>\n",
       "      <td>0.958679</td>\n",
       "      <td>1.261411</td>\n",
       "    </tr>\n",
       "    <tr>\n",
       "      <th>2</th>\n",
       "      <td>0.981169</td>\n",
       "      <td>1.261411</td>\n",
       "    </tr>\n",
       "    <tr>\n",
       "      <th>3</th>\n",
       "      <td>1.072340</td>\n",
       "      <td>1.221514</td>\n",
       "    </tr>\n",
       "    <tr>\n",
       "      <th>4</th>\n",
       "      <td>1.103429</td>\n",
       "      <td>1.141719</td>\n",
       "    </tr>\n",
       "    <tr>\n",
       "      <th>...</th>\n",
       "      <td>...</td>\n",
       "      <td>...</td>\n",
       "    </tr>\n",
       "    <tr>\n",
       "      <th>60</th>\n",
       "      <td>-0.903061</td>\n",
       "      <td>-1.290419</td>\n",
       "    </tr>\n",
       "    <tr>\n",
       "      <th>61</th>\n",
       "      <td>-0.893200</td>\n",
       "      <td>-1.190676</td>\n",
       "    </tr>\n",
       "    <tr>\n",
       "      <th>62</th>\n",
       "      <td>-0.859631</td>\n",
       "      <td>-1.190676</td>\n",
       "    </tr>\n",
       "    <tr>\n",
       "      <th>63</th>\n",
       "      <td>-0.816651</td>\n",
       "      <td>-1.110881</td>\n",
       "    </tr>\n",
       "    <tr>\n",
       "      <th>64</th>\n",
       "      <td>-0.760211</td>\n",
       "      <td>-1.110881</td>\n",
       "    </tr>\n",
       "  </tbody>\n",
       "</table>\n",
       "<p>65 rows × 2 columns</p>\n",
       "</div>"
      ],
      "text/plain": [
       "    Train Predictions  Actuals freight pct change\n",
       "0            0.925942                    1.261411\n",
       "1            0.958679                    1.261411\n",
       "2            0.981169                    1.261411\n",
       "3            1.072340                    1.221514\n",
       "4            1.103429                    1.141719\n",
       "..                ...                         ...\n",
       "60          -0.903061                   -1.290419\n",
       "61          -0.893200                   -1.190676\n",
       "62          -0.859631                   -1.190676\n",
       "63          -0.816651                   -1.110881\n",
       "64          -0.760211                   -1.110881\n",
       "\n",
       "[65 rows x 2 columns]"
      ]
     },
     "execution_count": 15,
     "metadata": {},
     "output_type": "execute_result"
    }
   ],
   "source": [
    "train_predictions = model.predict(xtrain).flatten()\n",
    "train_results = pd.DataFrame(data={'Train Predictions':train_predictions, 'Actuals freight pct change':ytrain})\n",
    "train_results"
   ]
  },
  {
   "cell_type": "code",
   "execution_count": 16,
   "id": "b82cc826",
   "metadata": {},
   "outputs": [
    {
     "data": {
      "text/plain": [
       "<AxesSubplot:>"
      ]
     },
     "execution_count": 16,
     "metadata": {},
     "output_type": "execute_result"
    },
    {
     "data": {
      "image/png": "[encoded data removed]",
      "text/plain": [
       "<Figure size 432x288 with 1 Axes>"
      ]
     },
     "metadata": {
      "needs_background": "light"
     },
     "output_type": "display_data"
    }
   ],
   "source": [
    "train_results.plot()"
   ]
  },
  {
   "cell_type": "code",
   "execution_count": 17,
   "id": "f9683cab",
   "metadata": {},
   "outputs": [
    {
     "data": {
      "text/html": [
       "<div>\n",
       "<style scoped>\n",
       "    .dataframe tbody tr th:only-of-type {\n",
       "        vertical-align: middle;\n",
       "    }\n",
       "\n",
       "    .dataframe tbody tr th {\n",
       "        vertical-align: top;\n",
       "    }\n",
       "\n",
       "    .dataframe thead th {\n",
       "        text-align: right;\n",
       "    }\n",
       "</style>\n",
       "<table border=\"1\" class=\"dataframe\">\n",
       "  <thead>\n",
       "    <tr style=\"text-align: right;\">\n",
       "      <th></th>\n",
       "      <th>Train Predictions</th>\n",
       "      <th>Ocean Freight rate</th>\n",
       "    </tr>\n",
       "    <tr>\n",
       "      <th>Validity From</th>\n",
       "      <th></th>\n",
       "      <th></th>\n",
       "    </tr>\n",
       "  </thead>\n",
       "  <tbody>\n",
       "    <tr>\n",
       "      <th>2022-02-15</th>\n",
       "      <td>5607.168945</td>\n",
       "      <td>6448</td>\n",
       "    </tr>\n",
       "    <tr>\n",
       "      <th>2022-02-21</th>\n",
       "      <td>5689.220215</td>\n",
       "      <td>6448</td>\n",
       "    </tr>\n",
       "    <tr>\n",
       "      <th>2022-03-01</th>\n",
       "      <td>5745.590820</td>\n",
       "      <td>6448</td>\n",
       "    </tr>\n",
       "    <tr>\n",
       "      <th>2022-03-07</th>\n",
       "      <td>5974.104492</td>\n",
       "      <td>6348</td>\n",
       "    </tr>\n",
       "    <tr>\n",
       "      <th>2022-03-11</th>\n",
       "      <td>6052.028320</td>\n",
       "      <td>6148</td>\n",
       "    </tr>\n",
       "  </tbody>\n",
       "</table>\n",
       "</div>"
      ],
      "text/plain": [
       "               Train Predictions  Ocean Freight rate\n",
       "Validity From                                       \n",
       "2022-02-15           5607.168945                6448\n",
       "2022-02-21           5689.220215                6448\n",
       "2022-03-01           5745.590820                6448\n",
       "2022-03-07           5974.104492                6348\n",
       "2022-03-11           6052.028320                6148"
      ]
     },
     "execution_count": 17,
     "metadata": {},
     "output_type": "execute_result"
    },
    {
     "data": {
      "image/png": "[encoded data removed]",
      "text/plain": [
       "<Figure size 432x288 with 1 Axes>"
      ]
     },
     "metadata": {
      "needs_background": "light"
     },
     "output_type": "display_data"
    }
   ],
   "source": [
    "predictions_real=(train_results[\"Train Predictions\"]*np.std(freight_df[\"Ocean Freight rate\"]))+np.mean(freight_df[\"Ocean Freight rate\"])\n",
    "predictions_real=pd.DataFrame(predictions_real)\n",
    "predictions_real.index=freight_df.iloc[3:,:].index\n",
    "predictions_real[\"Ocean Freight rate\"]=freight_df[\"Ocean Freight rate\"]\n",
    "\n",
    "predictions_real.plot()\n",
    "predictions_real.head()"
   ]
  },
  {
   "cell_type": "code",
   "execution_count": 19,
   "id": "b86520dd",
   "metadata": {},
   "outputs": [
    {
     "data": {
      "text/plain": [
       "(3286.3529411764707, 2506.4362781864206)"
      ]
     },
     "execution_count": 19,
     "metadata": {},
     "output_type": "execute_result"
    }
   ],
   "source": [
    "u=np.mean(freight_df[\"Ocean Freight rate\"])\n",
    "sigma=np.std(freight_df[\"Ocean Freight rate\"])\n",
    "u,sigma"
   ]
  },
  {
   "cell_type": "code",
   "execution_count": 20,
   "id": "02f79e8c",
   "metadata": {},
   "outputs": [
    {
     "name": "stdout",
     "output_type": "stream",
     "text": [
      "3/3 [==============================] - 0s 4ms/step\n"
     ]
    },
    {
     "name": "stderr",
     "output_type": "stream",
     "text": [
      "C:\\Users\\OCTAVIO\\AppData\\Local\\Temp\\ipykernel_15752\\1267037105.py:2: FutureWarning: The frame.append method is deprecated and will be removed from pandas in a future version. Use pandas.concat instead.\n",
      "  data_final2=data_final.append({\"Ocean Freight\":0,\"Day sin\":0,\"Day cos\":0,\"Year sin\":0,\"Year cos\":0},ignore_index=True)\n"
     ]
    },
    {
     "data": {
      "text/plain": [
       "array([ 0.9259424 ,  0.9586787 ,  0.9811692 ,  1.0723398 ,  1.1034293 ,\n",
       "        1.1087617 ,  1.0928133 ,  1.0315332 ,  0.98973954,  0.9178941 ,\n",
       "        0.89378756,  0.8484371 ,  0.84667695,  0.85004133,  0.87125933,\n",
       "        0.87992364,  0.89218706,  0.9205258 ,  0.96746004,  1.0229154 ,\n",
       "        1.0604775 ,  1.1020733 ,  1.1479081 ,  1.1567981 ,  1.0512611 ,\n",
       "        0.88207674,  0.6579852 ,  0.47513947,  0.27844247,  0.13463187,\n",
       "       -0.02765131, -0.22713624, -0.42276567, -0.5904361 , -0.70529014,\n",
       "       -0.77429396, -0.8256863 , -0.8605458 , -0.89173555, -0.92351633,\n",
       "       -0.94363576, -0.9230768 , -0.89091825, -0.8453267 , -0.85566425,\n",
       "       -0.8600802 , -0.88791335, -0.9061721 , -0.9409275 , -0.9671065 ,\n",
       "       -0.99690354, -1.0074015 , -1.0076487 , -1.0090587 , -1.003331  ,\n",
       "       -0.99384844, -0.97894317, -0.9669004 , -0.94746256, -0.9259136 ,\n",
       "       -0.90306133, -0.8932    , -0.8596313 , -0.8166505 , -0.7602108 ,\n",
       "       -0.73268044], dtype=float32)"
      ]
     },
     "execution_count": 20,
     "metadata": {},
     "output_type": "execute_result"
    }
   ],
   "source": [
    "data_final.head()\n",
    "data_final2=data_final.append({\"Ocean Freight\":0,\"Day sin\":0,\"Day cos\":0,\"Year sin\":0,\"Year cos\":0},ignore_index=True)\n",
    "xtrain2,ytrain2=df_to_X_y2(data_final2,window_size=3)\n",
    "train_predictions2 = model.predict(xtrain2).flatten()\n",
    "train_predictions2"
   ]
  },
  {
   "cell_type": "code",
   "execution_count": 21,
   "id": "6a9bd1e2",
   "metadata": {},
   "outputs": [
    {
     "name": "stdout",
     "output_type": "stream",
     "text": [
      "La variación porcentual para los primeros días de marzo es de aproximadamente: 188.83189365948616%\n"
     ]
    }
   ],
   "source": [
    "first_march=((((train_predictions2[65]*sigma)+u)/502)-1)*100\n",
    "print(\"La variación porcentual para los primeros días de marzo es de aproximadamente: \"+str(first_march)+\"%\")"
   ]
  },
  {
   "cell_type": "code",
   "execution_count": null,
   "id": "3f2eef54",
   "metadata": {},
   "outputs": [],
   "source": []
  }
 ],
 "metadata": {
  "kernelspec": {
   "display_name": "Python 3 (ipykernel)",
   "language": "python",
   "name": "python3"
  },
  "language_info": {
   "codemirror_mode": {
    "name": "ipython",
    "version": 3
   },
   "file_extension": ".py",
   "mimetype": "text/x-python",
   "name": "python",
   "nbconvert_exporter": "python",
   "pygments_lexer": "ipython3",
   "version": "3.9.12"
  }
 },
 "nbformat": 4,
 "nbformat_minor": 5
}
